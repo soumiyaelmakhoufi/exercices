import numpy as np

def P(N):
    p = np.zeros((N, N))
    p[0, 0] = 1  # Absorbing state at 0
    for i in range(1, N):
        for j in range(i):
            p[i, j] = 1 / i  # Equal probability for each transition to i-j
    return p

def trajectoire(mu, P, N):
    trajectoire_etats = [np.random.choice(mu.shape[0], p=mu)]
    count = 0

    while trajectoire_etats[-1] != 0:  # Continue until state 0 is reached
        etat_actuel = trajectoire_etats[-1]
        etat_suivant = np.random.choice(mu.shape[0], p=P[etat_actuel])
        count += 1
        trajectoire_etats.append(etat_suivant)

    return trajectoire_etats, count

N = 100  # Nombre d'états
transition_matrix = P(N)
initial_distribution = np.zeros(N)
initial_distribution[N-1] = 1  # On commence dans l'état 1

# Exécution de la simulation
T={}
for N in range(10,200000,1000):
  T[N]=trajectoire(initial_distribution, transition_matrix, N)[1]

print(T)
